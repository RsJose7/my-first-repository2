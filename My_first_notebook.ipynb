{
  "nbformat": 4,
  "nbformat_minor": 0,
  "metadata": {
    "colab": {
      "provenance": [],
      "authorship_tag": "ABX9TyNHJm73AAZZeeL8qgaXv4r6",
      "include_colab_link": true
    },
    "kernelspec": {
      "name": "python3",
      "display_name": "Python 3"
    },
    "language_info": {
      "name": "python"
    }
  },
  "cells": [
    {
      "cell_type": "markdown",
      "metadata": {
        "id": "view-in-github",
        "colab_type": "text"
      },
      "source": [
        "<a href=\"https://colab.research.google.com/github/RsJose7/my-first-repository2/blob/main/My_first_notebook.ipynb\" target=\"_parent\"><img src=\"https://colab.research.google.com/assets/colab-badge.svg\" alt=\"Open In Colab\"/></a>"
      ]
    },
    {
      "cell_type": "code",
      "execution_count": 4,
      "metadata": {
        "colab": {
          "base_uri": "https://localhost:8080/"
        },
        "id": "-0Zv3C2JlUzf",
        "outputId": "2a9d546c-7944-495f-c1e1-fe15f1fe9e09"
      },
      "outputs": [
        {
          "output_type": "stream",
          "name": "stdout",
          "text": [
            "Hola Jose\n",
            "15\n",
            "8\n"
          ]
        }
      ],
      "source": [
        "name = \"Jose\"\n",
        "print(\"Hola\", name)\n",
        "a = 3\n",
        "b = 5\n",
        "c = a * b\n",
        "d = a + b\n",
        "print(c)\n",
        "print(d)\n",
        "\n",
        "\n",
        "\n"
      ]
    }
  ]
}